{
 "cells": [
  {
   "cell_type": "markdown",
   "metadata": {},
   "source": [
    "# Business Scenario \\#1\n",
    "The Chinook record store has just signed a deal with a new record label, and we've been tasked with selecting the first three albums that will be added to the store, from a list of four. All four albums are by artists that don't have any tracks in the store right now - we have the artist names, and the genre of music they produce:\n",
    "\n",
    "|Artist|Genre|\n",
    "|------|-----|\n",
    "|Regal|Hip-Hop|\n",
    "|Red Tone|Punk|\n",
    "|Meteor and the Girls| Pop|\n",
    "|Slim Jim Bites| Blues|\n",
    "\n",
    "The record label specializes in artists from the USA, and they have given Chinook some money to advertise the new albums in the USA, so we're interested in finding out which genres sell the best in the USA."
   ]
  },
  {
   "cell_type": "code",
   "execution_count": 59,
   "metadata": {
    "collapsed": true
   },
   "outputs": [],
   "source": [
    "%matplotlib inline\n",
    "import sqlite3\n",
    "import pandas as pd\n",
    "import matplotlib.pyplot as plt\n",
    "import numpy as np"
   ]
  },
  {
   "cell_type": "markdown",
   "metadata": {},
   "source": [
    "### Define functions that perform SQL queries"
   ]
  },
  {
   "cell_type": "code",
   "execution_count": 2,
   "metadata": {
    "collapsed": true
   },
   "outputs": [],
   "source": [
    "# a function to run query directly\n",
    "def run_query(q):\n",
    "    with sqlite3.connect('chinook.db') as conn:\n",
    "        return pd.read_sql(q, conn)\n",
    "\n",
    "# a function to run and not return the query\n",
    "def run_command(c):\n",
    "    with sqlite3.connect('chinook.db') as conn:\n",
    "        conn.isolation_level = None\n",
    "        conn.execute(c)\n",
    "\n",
    "# a function to show the tables in the database\n",
    "def show_tables():\n",
    "    with sqlite3.connect('chinook.db') as conn:\n",
    "        q = 'SELECT name, type FROM sqlite_master WHERE type IN (\"table\",\"view\");'\n",
    "        print(run_query(q))"
   ]
  },
  {
   "cell_type": "markdown",
   "metadata": {},
   "source": [
    "### Write a query that returns each genre, with the number of tracks sold in absolute numbers and in percentages\n"
   ]
  },
  {
   "cell_type": "code",
   "execution_count": 3,
   "metadata": {
    "collapsed": false
   },
   "outputs": [
    {
     "data": {
      "text/html": [
       "<div>\n",
       "<table border=\"1\" class=\"dataframe\">\n",
       "  <thead>\n",
       "    <tr style=\"text-align: right;\">\n",
       "      <th></th>\n",
       "      <th>genre_name</th>\n",
       "      <th>tracks_sold</th>\n",
       "      <th>tracks_sold_perc</th>\n",
       "    </tr>\n",
       "  </thead>\n",
       "  <tbody>\n",
       "    <tr>\n",
       "      <th>0</th>\n",
       "      <td>Rock</td>\n",
       "      <td>561</td>\n",
       "      <td>0.53</td>\n",
       "    </tr>\n",
       "    <tr>\n",
       "      <th>1</th>\n",
       "      <td>Alternative &amp; Punk</td>\n",
       "      <td>130</td>\n",
       "      <td>0.12</td>\n",
       "    </tr>\n",
       "    <tr>\n",
       "      <th>2</th>\n",
       "      <td>Metal</td>\n",
       "      <td>124</td>\n",
       "      <td>0.12</td>\n",
       "    </tr>\n",
       "    <tr>\n",
       "      <th>3</th>\n",
       "      <td>R&amp;B/Soul</td>\n",
       "      <td>53</td>\n",
       "      <td>0.05</td>\n",
       "    </tr>\n",
       "    <tr>\n",
       "      <th>4</th>\n",
       "      <td>Blues</td>\n",
       "      <td>36</td>\n",
       "      <td>0.03</td>\n",
       "    </tr>\n",
       "    <tr>\n",
       "      <th>5</th>\n",
       "      <td>Alternative</td>\n",
       "      <td>35</td>\n",
       "      <td>0.03</td>\n",
       "    </tr>\n",
       "    <tr>\n",
       "      <th>6</th>\n",
       "      <td>Latin</td>\n",
       "      <td>22</td>\n",
       "      <td>0.02</td>\n",
       "    </tr>\n",
       "    <tr>\n",
       "      <th>7</th>\n",
       "      <td>Pop</td>\n",
       "      <td>22</td>\n",
       "      <td>0.02</td>\n",
       "    </tr>\n",
       "    <tr>\n",
       "      <th>8</th>\n",
       "      <td>Hip Hop/Rap</td>\n",
       "      <td>20</td>\n",
       "      <td>0.02</td>\n",
       "    </tr>\n",
       "    <tr>\n",
       "      <th>9</th>\n",
       "      <td>Jazz</td>\n",
       "      <td>14</td>\n",
       "      <td>0.01</td>\n",
       "    </tr>\n",
       "    <tr>\n",
       "      <th>10</th>\n",
       "      <td>Easy Listening</td>\n",
       "      <td>13</td>\n",
       "      <td>0.01</td>\n",
       "    </tr>\n",
       "    <tr>\n",
       "      <th>11</th>\n",
       "      <td>Reggae</td>\n",
       "      <td>6</td>\n",
       "      <td>0.01</td>\n",
       "    </tr>\n",
       "    <tr>\n",
       "      <th>12</th>\n",
       "      <td>Electronica/Dance</td>\n",
       "      <td>5</td>\n",
       "      <td>0.00</td>\n",
       "    </tr>\n",
       "    <tr>\n",
       "      <th>13</th>\n",
       "      <td>Classical</td>\n",
       "      <td>4</td>\n",
       "      <td>0.00</td>\n",
       "    </tr>\n",
       "    <tr>\n",
       "      <th>14</th>\n",
       "      <td>Heavy Metal</td>\n",
       "      <td>3</td>\n",
       "      <td>0.00</td>\n",
       "    </tr>\n",
       "    <tr>\n",
       "      <th>15</th>\n",
       "      <td>Soundtrack</td>\n",
       "      <td>2</td>\n",
       "      <td>0.00</td>\n",
       "    </tr>\n",
       "    <tr>\n",
       "      <th>16</th>\n",
       "      <td>TV Shows</td>\n",
       "      <td>1</td>\n",
       "      <td>0.00</td>\n",
       "    </tr>\n",
       "  </tbody>\n",
       "</table>\n",
       "</div>"
      ],
      "text/plain": [
       "            genre_name  tracks_sold  tracks_sold_perc\n",
       "0                 Rock          561              0.53\n",
       "1   Alternative & Punk          130              0.12\n",
       "2                Metal          124              0.12\n",
       "3             R&B/Soul           53              0.05\n",
       "4                Blues           36              0.03\n",
       "5          Alternative           35              0.03\n",
       "6                Latin           22              0.02\n",
       "7                  Pop           22              0.02\n",
       "8          Hip Hop/Rap           20              0.02\n",
       "9                 Jazz           14              0.01\n",
       "10      Easy Listening           13              0.01\n",
       "11              Reggae            6              0.01\n",
       "12   Electronica/Dance            5              0.00\n",
       "13           Classical            4              0.00\n",
       "14         Heavy Metal            3              0.00\n",
       "15          Soundtrack            2              0.00\n",
       "16            TV Shows            1              0.00"
      ]
     },
     "execution_count": 3,
     "metadata": {},
     "output_type": "execute_result"
    }
   ],
   "source": [
    "q1=('''\n",
    "WITH\n",
    "    il_usa AS\n",
    "    (\n",
    "        SELECT\n",
    "            *\n",
    "        FROM invoice_line\n",
    "        INNER JOIN invoice ON invoice.invoice_id = invoice_line.invoice_id\n",
    "        WHERE invoice.billing_country = 'USA'\n",
    "    )\n",
    "\n",
    "SELECT\n",
    "    genre.name as genre_name,\n",
    "    COUNT(il_usa.track_id) as tracks_sold,\n",
    "    ROUND(1.0 * COUNT(il_usa.track_id) / (SELECT SUM(il_usa.quantity) FROM il_usa),2) as tracks_sold_perc\n",
    "FROM il_usa\n",
    "INNER JOIN track ON track.track_id = il_usa.track_id\n",
    "INNER JOIN genre ON track.genre_id = genre.genre_id\n",
    "GROUP BY 1\n",
    "ORDER BY 2 DESC\n",
    "''')\n",
    "run_query(q1)"
   ]
  },
  {
   "cell_type": "markdown",
   "metadata": {},
   "source": [
    "### Generate charts in absolute number of tracks sold and in percentages"
   ]
  },
  {
   "cell_type": "code",
   "execution_count": 4,
   "metadata": {
    "collapsed": false
   },
   "outputs": [
    {
     "data": {
      "text/plain": [
       "<matplotlib.axes._subplots.AxesSubplot at 0x7fc33000ae48>"
      ]
     },
     "execution_count": 4,
     "metadata": {},
     "output_type": "execute_result"
    },
    {
     "data": {
      "image/png": "[encoded data removed]",
      "text/plain": [
       "<matplotlib.figure.Figure at 0x7fc33000a320>"
      ]
     },
     "metadata": {},
     "output_type": "display_data"
    }
   ],
   "source": [
    "data1 = run_query(q1)\n",
    "data1.set_index('genre_name',inplace=True)\n",
    "data1['tracks_sold'].sort_values(ascending=True).plot.barh(title='Number of Tracks Sold Per Gentre',legend=False)"
   ]
  },
  {
   "cell_type": "code",
   "execution_count": 5,
   "metadata": {
    "collapsed": false
   },
   "outputs": [
    {
     "data": {
      "text/plain": [
       "<matplotlib.axes._subplots.AxesSubplot at 0x7fc32ff8e4e0>"
      ]
     },
     "execution_count": 5,
     "metadata": {},
     "output_type": "execute_result"
    },
    {
     "data": {
      "image/png": "[encoded data removed]",
      "text/plain": [
       "<matplotlib.figure.Figure at 0x7fc3300359b0>"
      ]
     },
     "metadata": {},
     "output_type": "display_data"
    }
   ],
   "source": [
    "data1['tracks_sold_perc'].sort_values(ascending=True).plot.barh(title='Percentage of Tracks Sold Per Gentre',legend=False)"
   ]
  },
  {
   "cell_type": "markdown",
   "metadata": {},
   "source": [
    "### Observations \\#1\n",
    "Rock, Alternateive/Punk, Metal, and R&B/Soul made for the overwhelming majority (~77%) of tracks sold at the store. Therefore, we should focus on promoting artists that are within there genres to ensure the deal would generate its higest sales potential.\n",
    "\n",
    "Since Chinook can promote 3 out of the 4 albums in this deal, Chinook should drop the album that belong to the least popular genre within the group: **Regal's** alubm, which is of Hip-hop (~1.0%).\n",
    "___"
   ]
  },
  {
   "cell_type": "markdown",
   "metadata": {},
   "source": [
    "# Business Scenario \\#2\n",
    "Each customer for the Chinook store gets assigned to a sales support agent within the company when they first make a purchase. You have been asked to analyze the purchases of customers belonging to each employee to see if any sales support agent is performing either better or worse than the others.\n",
    "\n",
    "You might like to consider whether any extra columns from the employee table explain any variance you see, or whether the variance might instead be indicative of employee performance."
   ]
  },
  {
   "cell_type": "markdown",
   "metadata": {},
   "source": [
    "### Investigate the following for each of the sales rep:\n",
    "- the total sales amount\n",
    "- number of customers served\n",
    "- number of tracks sold\n",
    "- number of years worked\n",
    "- annualized sales amount"
   ]
  },
  {
   "cell_type": "code",
   "execution_count": 6,
   "metadata": {
    "collapsed": false
   },
   "outputs": [
    {
     "data": {
      "text/html": [
       "<div>\n",
       "<table border=\"1\" class=\"dataframe\">\n",
       "  <thead>\n",
       "    <tr style=\"text-align: right;\">\n",
       "      <th></th>\n",
       "      <th>employee_name</th>\n",
       "      <th>number_of_customers</th>\n",
       "      <th>sales_amount</th>\n",
       "      <th>tenure_year</th>\n",
       "      <th>annualized_sales</th>\n",
       "    </tr>\n",
       "  </thead>\n",
       "  <tbody>\n",
       "    <tr>\n",
       "      <th>0</th>\n",
       "      <td>Jane Peacock</td>\n",
       "      <td>21</td>\n",
       "      <td>1731.51</td>\n",
       "      <td>3.75</td>\n",
       "      <td>461.65</td>\n",
       "    </tr>\n",
       "    <tr>\n",
       "      <th>1</th>\n",
       "      <td>Margaret Park</td>\n",
       "      <td>20</td>\n",
       "      <td>1584.00</td>\n",
       "      <td>3.66</td>\n",
       "      <td>432.75</td>\n",
       "    </tr>\n",
       "    <tr>\n",
       "      <th>2</th>\n",
       "      <td>Steve Johnson</td>\n",
       "      <td>18</td>\n",
       "      <td>1393.92</td>\n",
       "      <td>3.18</td>\n",
       "      <td>438.60</td>\n",
       "    </tr>\n",
       "  </tbody>\n",
       "</table>\n",
       "</div>"
      ],
      "text/plain": [
       "   employee_name  number_of_customers  sales_amount  tenure_year  \\\n",
       "0   Jane Peacock                   21       1731.51         3.75   \n",
       "1  Margaret Park                   20       1584.00         3.66   \n",
       "2  Steve Johnson                   18       1393.92         3.18   \n",
       "\n",
       "   annualized_sales  \n",
       "0            461.65  \n",
       "1            432.75  \n",
       "2            438.60  "
      ]
     },
     "execution_count": 6,
     "metadata": {},
     "output_type": "execute_result"
    }
   ],
   "source": [
    "q2 =(\n",
    "'''\n",
    "    WITH\n",
    "        number_customers AS\n",
    "        (\n",
    "            SELECT\n",
    "                customer.support_rep_id,\n",
    "                count(customer.customer_id) as number_customers\n",
    "            FROM customer\n",
    "            GROUP BY 1\n",
    "        ),\n",
    "        sales_amount AS\n",
    "        (\n",
    "            SELECT\n",
    "                customer.support_rep_id,\n",
    "                SUM(invoice.total) as sales_customer\n",
    "            FROM invoice\n",
    "            INNER JOIN customer ON customer.customer_id = invoice.customer_id\n",
    "            INNER JOIN employee ON employee.employee_id = customer.support_rep_id\n",
    "            GROUP BY 1\n",
    "        ),\n",
    "        last_invoice_date AS\n",
    "        (\n",
    "            SELECT\n",
    "                employee.employee_id,\n",
    "                customer.customer_id,\n",
    "                invoice.invoice_id,\n",
    "                max(invoice.invoice_date) as last_invoice_date\n",
    "            FROM invoice\n",
    "            INNER JOIN customer ON customer.customer_id = invoice.customer_id\n",
    "            INNER JOIN employee ON employee.employee_id = customer.support_rep_id\n",
    "            GROUP BY 1\n",
    "        )\n",
    "    \n",
    "    SELECT\n",
    "        employee.first_name || \" \" || employee.last_name as employee_name,\n",
    "        number_customers.number_customers as number_of_customers,\n",
    "        sales_amount.sales_customer as sales_amount,\n",
    "        round((julianday(max(last_invoice_date.last_invoice_date)) - julianday(employee.hire_date))/365,2) as tenure_year,\n",
    "        round(sales_amount.sales_customer / ((julianday(max(last_invoice_date.last_invoice_date)) - julianday(employee.hire_date))/365.0),2) as annualized_sales        \n",
    "    FROM employee\n",
    "    INNER JOIN number_customers ON number_customers.support_rep_id = employee.employee_id\n",
    "    INNER JOIN sales_amount ON sales_amount.support_rep_id = employee.employee_id\n",
    "    INNER JOIN last_invoice_date ON last_invoice_date.employee_id = employee.employee_id\n",
    "    WHERE employee.title = \"Sales Support Agent\"\n",
    "    GROUP BY 1\n",
    "''')\n",
    "run_query(q2)"
   ]
  },
  {
   "cell_type": "code",
   "execution_count": 7,
   "metadata": {
    "collapsed": false
   },
   "outputs": [
    {
     "data": {
      "text/plain": [
       "<matplotlib.axes._subplots.AxesSubplot at 0x7fc327991780>"
      ]
     },
     "execution_count": 7,
     "metadata": {},
     "output_type": "execute_result"
    },
    {
     "data": {
      "image/png": "[encoded data removed]",
      "text/plain": [
       "<matplotlib.figure.Figure at 0x7fc3278b7358>"
      ]
     },
     "metadata": {},
     "output_type": "display_data"
    }
   ],
   "source": [
    "data2 = run_query(q2)\n",
    "data2.set_index('employee_name',inplace=True)\n",
    "data2['sales_amount'].plot.bar(rot=0,title='Total Sales Amount Per Sales Rep')"
   ]
  },
  {
   "cell_type": "code",
   "execution_count": 8,
   "metadata": {
    "collapsed": false
   },
   "outputs": [
    {
     "data": {
      "text/plain": [
       "<matplotlib.axes._subplots.AxesSubplot at 0x7fc32788bdd8>"
      ]
     },
     "execution_count": 8,
     "metadata": {},
     "output_type": "execute_result"
    },
    {
     "data": {
      "image/png": "[encoded data removed]",
      "text/plain": [
       "<matplotlib.figure.Figure at 0x7fc327815c88>"
      ]
     },
     "metadata": {},
     "output_type": "display_data"
    }
   ],
   "source": [
    "data2['annualized_sales'].sort_values(ascending=False).plot.bar(rot=0,title='Annualized Sales Amount Per Sales Rep')"
   ]
  },
  {
   "cell_type": "markdown",
   "metadata": {},
   "source": [
    "### Observation \\#2\n",
    "From the records, it shows that Jane Peacock is the top sales rep, followed by Margaret Park, and finally Steven Johnson.\n",
    "\n",
    "However, such comparison can be misleading, as different sales rep has worked with the company for different tenure durations. Therefore, an annualized sales amount would be a better indicator for their performances.\n",
    "\n",
    "With that accounted for, it turns out that Jane is still the top sales rep. However, Steven is now the second in rank, followed by Margaret.\n",
    "___"
   ]
  },
  {
   "cell_type": "markdown",
   "metadata": {},
   "source": [
    "# Business Scenario \\#3\n",
    "The next task is to analyze the sales data for customers from each different country. We have been given guidance to use the country value from the customers table, and ignore the country from the billing address in the invoice table.\n",
    "\n",
    "In particular, we have been directed to calculate data, for each country, on the:\n",
    "\n",
    "- total number of customers\n",
    "- total value of sales\n",
    "- average value of sales per customer\n",
    "- average order value\n",
    "\n",
    "Because there are a number of countries with only one customer, we should group these customers as \"Other\" in your analysis."
   ]
  },
  {
   "cell_type": "code",
   "execution_count": 9,
   "metadata": {
    "collapsed": false
   },
   "outputs": [
    {
     "data": {
      "text/html": [
       "<div>\n",
       "<table border=\"1\" class=\"dataframe\">\n",
       "  <thead>\n",
       "    <tr style=\"text-align: right;\">\n",
       "      <th></th>\n",
       "      <th>country</th>\n",
       "      <th>number_customers</th>\n",
       "      <th>total_sales</th>\n",
       "      <th>avg_sales_customer</th>\n",
       "      <th>avg_sales_order</th>\n",
       "    </tr>\n",
       "  </thead>\n",
       "  <tbody>\n",
       "    <tr>\n",
       "      <th>0</th>\n",
       "      <td>USA</td>\n",
       "      <td>13</td>\n",
       "      <td>1040.49</td>\n",
       "      <td>80.04</td>\n",
       "      <td>7.94</td>\n",
       "    </tr>\n",
       "    <tr>\n",
       "      <th>1</th>\n",
       "      <td>Canada</td>\n",
       "      <td>8</td>\n",
       "      <td>535.59</td>\n",
       "      <td>66.95</td>\n",
       "      <td>7.05</td>\n",
       "    </tr>\n",
       "    <tr>\n",
       "      <th>2</th>\n",
       "      <td>Brazil</td>\n",
       "      <td>5</td>\n",
       "      <td>427.68</td>\n",
       "      <td>85.54</td>\n",
       "      <td>7.01</td>\n",
       "    </tr>\n",
       "    <tr>\n",
       "      <th>3</th>\n",
       "      <td>France</td>\n",
       "      <td>5</td>\n",
       "      <td>389.07</td>\n",
       "      <td>77.81</td>\n",
       "      <td>7.78</td>\n",
       "    </tr>\n",
       "    <tr>\n",
       "      <th>4</th>\n",
       "      <td>Germany</td>\n",
       "      <td>4</td>\n",
       "      <td>334.62</td>\n",
       "      <td>83.66</td>\n",
       "      <td>8.16</td>\n",
       "    </tr>\n",
       "    <tr>\n",
       "      <th>5</th>\n",
       "      <td>Czech Republic</td>\n",
       "      <td>2</td>\n",
       "      <td>273.24</td>\n",
       "      <td>136.62</td>\n",
       "      <td>9.11</td>\n",
       "    </tr>\n",
       "    <tr>\n",
       "      <th>6</th>\n",
       "      <td>United Kingdom</td>\n",
       "      <td>3</td>\n",
       "      <td>245.52</td>\n",
       "      <td>81.84</td>\n",
       "      <td>8.77</td>\n",
       "    </tr>\n",
       "    <tr>\n",
       "      <th>7</th>\n",
       "      <td>Portugal</td>\n",
       "      <td>2</td>\n",
       "      <td>185.13</td>\n",
       "      <td>92.57</td>\n",
       "      <td>6.38</td>\n",
       "    </tr>\n",
       "    <tr>\n",
       "      <th>8</th>\n",
       "      <td>India</td>\n",
       "      <td>2</td>\n",
       "      <td>183.15</td>\n",
       "      <td>91.57</td>\n",
       "      <td>8.72</td>\n",
       "    </tr>\n",
       "    <tr>\n",
       "      <th>9</th>\n",
       "      <td>Other</td>\n",
       "      <td>15</td>\n",
       "      <td>1094.94</td>\n",
       "      <td>73.00</td>\n",
       "      <td>7.45</td>\n",
       "    </tr>\n",
       "  </tbody>\n",
       "</table>\n",
       "</div>"
      ],
      "text/plain": [
       "          country  number_customers  total_sales  avg_sales_customer  \\\n",
       "0             USA                13      1040.49               80.04   \n",
       "1          Canada                 8       535.59               66.95   \n",
       "2          Brazil                 5       427.68               85.54   \n",
       "3          France                 5       389.07               77.81   \n",
       "4         Germany                 4       334.62               83.66   \n",
       "5  Czech Republic                 2       273.24              136.62   \n",
       "6  United Kingdom                 3       245.52               81.84   \n",
       "7        Portugal                 2       185.13               92.57   \n",
       "8           India                 2       183.15               91.57   \n",
       "9           Other                15      1094.94               73.00   \n",
       "\n",
       "   avg_sales_order  \n",
       "0             7.94  \n",
       "1             7.05  \n",
       "2             7.01  \n",
       "3             7.78  \n",
       "4             8.16  \n",
       "5             9.11  \n",
       "6             8.77  \n",
       "7             6.38  \n",
       "8             8.72  \n",
       "9             7.45  "
      ]
     },
     "execution_count": 9,
     "metadata": {},
     "output_type": "execute_result"
    }
   ],
   "source": [
    "q3 = ('''\n",
    "WITH\n",
    "    inv_cust_sales AS\n",
    "        (\n",
    "            SELECT\n",
    "                CASE\n",
    "                    WHEN\n",
    "                        (\n",
    "                            SELECT\n",
    "                                COUNT(*)\n",
    "                            FROM customer\n",
    "                            WHERE country = c.country\n",
    "                        ) = 1\n",
    "                        THEN \"Other\"\n",
    "                    ELSE c.country\n",
    "                END as country,\n",
    "                c.customer_id,\n",
    "                invoice.invoice_id,\n",
    "                invoice.total\n",
    "            FROM customer as c\n",
    "            INNER JOIN invoice ON invoice.customer_id = c.customer_id\n",
    "        )\n",
    "\n",
    "SELECT\n",
    "    country,\n",
    "    number_customers,\n",
    "    total_sales,\n",
    "    avg_sales_customer,\n",
    "    avg_sales_order\n",
    "FROM\n",
    "    (\n",
    "    SELECT\n",
    "        country,\n",
    "        count(distinct customer_id) as number_customers,\n",
    "        SUM(total) as total_sales,\n",
    "        ROUND(SUM(total) / count(distinct customer_id), 2) as avg_sales_customer,\n",
    "        ROUND(SUM(total) / count(distinct invoice_id), 2) as avg_sales_order,\n",
    "        CASE\n",
    "            WHEN country = \"Other\" THEN 1\n",
    "            ELSE 0\n",
    "        END as sort\n",
    "    FROM inv_cust_sales\n",
    "    GROUP BY 1\n",
    "    ORDER BY sort, 3 DESC\n",
    "    )\n",
    "''')\n",
    "run_query(q3)"
   ]
  },
  {
   "cell_type": "markdown",
   "metadata": {},
   "source": [
    "### Visualize the Finding"
   ]
  },
  {
   "cell_type": "code",
   "execution_count": 80,
   "metadata": {
    "collapsed": false
   },
   "outputs": [],
   "source": [
    "data3 = run_query(q3)\n",
    "data3.set_index('country',inplace=True)\n",
    "\n",
    "# define chart colors for each country\n",
    "colors = [plt.cm.Set2(i) for i in np.linspace(0,1,data3.shape[0])]"
   ]
  },
  {
   "cell_type": "code",
   "execution_count": 94,
   "metadata": {
    "collapsed": false
   },
   "outputs": [],
   "source": [
    "#calculate total sales as percentages\n",
    "data3['total_sales_perc'] = data3['total_sales'] / data3['total_sales'].sum()\n",
    "\n",
    "#calculate the +/- in sales of each country vs the avg total sales across the group\n",
    "data3['mean_dev'] = data3['total_sales'] - data3['total_sales'].mean()"
   ]
  },
  {
   "cell_type": "code",
   "execution_count": 92,
   "metadata": {
    "collapsed": false
   },
   "outputs": [
    {
     "data": {
      "text/plain": [
       "<matplotlib.axes._subplots.AxesSubplot at 0x7fc327475198>"
      ]
     },
     "execution_count": 92,
     "metadata": {},
     "output_type": "execute_result"
    },
    {
     "data": {
      "image/png": "[encoded data removed]",
      "text/plain": [
       "<matplotlib.figure.Figure at 0x7fc326624e48>"
      ]
     },
     "metadata": {},
     "output_type": "display_data"
    }
   ],
   "source": [
    "data3['total_sales_perc'].plot.bar(color=colors,rot=0,figsize=(16,6),title='Total Sales Per Country')"
   ]
  },
  {
   "cell_type": "code",
   "execution_count": 86,
   "metadata": {
    "collapsed": false
   },
   "outputs": [
    {
     "data": {
      "text/plain": [
       "<matplotlib.axes._subplots.AxesSubplot at 0x7fc3266370b8>"
      ]
     },
     "execution_count": 86,
     "metadata": {},
     "output_type": "execute_result"
    },
    {
     "data": {
      "image/png": "[encoded data removed]",
      "text/plain": [
       "<matplotlib.figure.Figure at 0x7fc3265ff400>"
      ]
     },
     "metadata": {},
     "output_type": "display_data"
    }
   ],
   "source": [
    "\n",
    "data3['mean_dev'].plot.bar(color=colors,rot=0,figsize=(16,6),title='Total Sales Per Country')"
   ]
  },
  {
   "cell_type": "markdown",
   "metadata": {},
   "source": [
    "### On the country category: Other\n",
    "the category \"Other\" takes up to 25% of the total sales; however it is comprisedof over 15 countries, each with only 1 customer. Due to this nature, let us exclude it from ths analysis."
   ]
  },
  {
   "cell_type": "code",
   "execution_count": 114,
   "metadata": {
    "collapsed": false
   },
   "outputs": [],
   "source": [
    "data4 = data3.drop(['Other'])"
   ]
  },
  {
   "cell_type": "code",
   "execution_count": 115,
   "metadata": {
    "collapsed": false
   },
   "outputs": [
    {
     "data": {
      "text/html": [
       "<div>\n",
       "<table border=\"1\" class=\"dataframe\">\n",
       "  <thead>\n",
       "    <tr style=\"text-align: right;\">\n",
       "      <th></th>\n",
       "      <th>number_customers</th>\n",
       "      <th>total_sales</th>\n",
       "      <th>avg_sales_customer</th>\n",
       "      <th>avg_sales_order</th>\n",
       "      <th>mean_dev</th>\n",
       "      <th>total_sales_perc</th>\n",
       "    </tr>\n",
       "    <tr>\n",
       "      <th>country</th>\n",
       "      <th></th>\n",
       "      <th></th>\n",
       "      <th></th>\n",
       "      <th></th>\n",
       "      <th></th>\n",
       "      <th></th>\n",
       "    </tr>\n",
       "  </thead>\n",
       "  <tbody>\n",
       "    <tr>\n",
       "      <th>USA</th>\n",
       "      <td>13</td>\n",
       "      <td>1040.49</td>\n",
       "      <td>80.04</td>\n",
       "      <td>7.94</td>\n",
       "      <td>638.88</td>\n",
       "      <td>0.287866</td>\n",
       "    </tr>\n",
       "    <tr>\n",
       "      <th>Canada</th>\n",
       "      <td>8</td>\n",
       "      <td>535.59</td>\n",
       "      <td>66.95</td>\n",
       "      <td>7.05</td>\n",
       "      <td>133.98</td>\n",
       "      <td>0.148179</td>\n",
       "    </tr>\n",
       "    <tr>\n",
       "      <th>Brazil</th>\n",
       "      <td>5</td>\n",
       "      <td>427.68</td>\n",
       "      <td>85.54</td>\n",
       "      <td>7.01</td>\n",
       "      <td>26.07</td>\n",
       "      <td>0.118324</td>\n",
       "    </tr>\n",
       "    <tr>\n",
       "      <th>France</th>\n",
       "      <td>5</td>\n",
       "      <td>389.07</td>\n",
       "      <td>77.81</td>\n",
       "      <td>7.78</td>\n",
       "      <td>-12.54</td>\n",
       "      <td>0.107642</td>\n",
       "    </tr>\n",
       "    <tr>\n",
       "      <th>Germany</th>\n",
       "      <td>4</td>\n",
       "      <td>334.62</td>\n",
       "      <td>83.66</td>\n",
       "      <td>8.16</td>\n",
       "      <td>-66.99</td>\n",
       "      <td>0.092577</td>\n",
       "    </tr>\n",
       "    <tr>\n",
       "      <th>Czech Republic</th>\n",
       "      <td>2</td>\n",
       "      <td>273.24</td>\n",
       "      <td>136.62</td>\n",
       "      <td>9.11</td>\n",
       "      <td>-128.37</td>\n",
       "      <td>0.075596</td>\n",
       "    </tr>\n",
       "    <tr>\n",
       "      <th>United Kingdom</th>\n",
       "      <td>3</td>\n",
       "      <td>245.52</td>\n",
       "      <td>81.84</td>\n",
       "      <td>8.77</td>\n",
       "      <td>-156.09</td>\n",
       "      <td>0.067927</td>\n",
       "    </tr>\n",
       "    <tr>\n",
       "      <th>Portugal</th>\n",
       "      <td>2</td>\n",
       "      <td>185.13</td>\n",
       "      <td>92.57</td>\n",
       "      <td>6.38</td>\n",
       "      <td>-216.48</td>\n",
       "      <td>0.051219</td>\n",
       "    </tr>\n",
       "    <tr>\n",
       "      <th>India</th>\n",
       "      <td>2</td>\n",
       "      <td>183.15</td>\n",
       "      <td>91.57</td>\n",
       "      <td>8.72</td>\n",
       "      <td>-218.46</td>\n",
       "      <td>0.050671</td>\n",
       "    </tr>\n",
       "  </tbody>\n",
       "</table>\n",
       "</div>"
      ],
      "text/plain": [
       "                number_customers  total_sales  avg_sales_customer  \\\n",
       "country                                                             \n",
       "USA                           13      1040.49               80.04   \n",
       "Canada                         8       535.59               66.95   \n",
       "Brazil                         5       427.68               85.54   \n",
       "France                         5       389.07               77.81   \n",
       "Germany                        4       334.62               83.66   \n",
       "Czech Republic                 2       273.24              136.62   \n",
       "United Kingdom                 3       245.52               81.84   \n",
       "Portugal                       2       185.13               92.57   \n",
       "India                          2       183.15               91.57   \n",
       "\n",
       "                avg_sales_order  mean_dev  total_sales_perc  \n",
       "country                                                      \n",
       "USA                        7.94    638.88          0.287866  \n",
       "Canada                     7.05    133.98          0.148179  \n",
       "Brazil                     7.01     26.07          0.118324  \n",
       "France                     7.78    -12.54          0.107642  \n",
       "Germany                    8.16    -66.99          0.092577  \n",
       "Czech Republic             9.11   -128.37          0.075596  \n",
       "United Kingdom             8.77   -156.09          0.067927  \n",
       "Portugal                   6.38   -216.48          0.051219  \n",
       "India                      8.72   -218.46          0.050671  "
      ]
     },
     "execution_count": 115,
     "metadata": {},
     "output_type": "execute_result"
    }
   ],
   "source": [
    "data4['total_sales_perc'] = data4['total_sales'] / data4['total_sales'].sum()\n",
    "data4['mean_dev'] = data4['total_sales'] - data4['total_sales'].mean()\n",
    "data4"
   ]
  },
  {
   "cell_type": "code",
   "execution_count": 116,
   "metadata": {
    "collapsed": false
   },
   "outputs": [
    {
     "data": {
      "text/plain": [
       "<matplotlib.axes._subplots.AxesSubplot at 0x7fc36cbc9cc0>"
      ]
     },
     "execution_count": 116,
     "metadata": {},
     "output_type": "execute_result"
    },
    {
     "data": {
      "image/png": "[encoded data removed]",
      "text/plain": [
       "<matplotlib.figure.Figure at 0x7fc3277e4940>"
      ]
     },
     "metadata": {},
     "output_type": "display_data"
    }
   ],
   "source": [
    "data4['total_sales_perc'].plot.bar(color=colors,rot=0,figsize=(16,6),title='Total Sales Per Country')"
   ]
  },
  {
   "cell_type": "code",
   "execution_count": 117,
   "metadata": {
    "collapsed": false
   },
   "outputs": [
    {
     "data": {
      "text/plain": [
       "<matplotlib.axes._subplots.AxesSubplot at 0x7fc36cb695f8>"
      ]
     },
     "execution_count": 117,
     "metadata": {},
     "output_type": "execute_result"
    },
    {
     "data": {
      "image/png": "[encoded data removed]",
      "text/plain": [
       "<matplotlib.figure.Figure at 0x7fc327146c18>"
      ]
     },
     "metadata": {},
     "output_type": "display_data"
    }
   ],
   "source": [
    "data4['mean_dev'].plot.bar(color=colors,rot=0,figsize=(16,6),title='Total Sales Per Country')"
   ]
  },
  {
   "cell_type": "markdown",
   "metadata": {},
   "source": [
    "### Observations So Far\n",
    "USA, Canada, Brazil, and France are countries where the sales are above average. On the other hand, Germany, Czech Rep, UK, Portugal, and India lag behind the average.\n",
    "\n",
    "USA, Canada, Germany, and UK have similar Social Economic Status; however, these countries differ in population size, which could have been a factor in influencing the sales amount.\n",
    "\n",
    "Let's investigate deeper by looking at the sales amount per customer and per order."
   ]
  },
  {
   "cell_type": "code",
   "execution_count": 118,
   "metadata": {
    "collapsed": false
   },
   "outputs": [
    {
     "data": {
      "text/plain": [
       "<matplotlib.axes._subplots.AxesSubplot at 0x7fc32646cba8>"
      ]
     },
     "execution_count": 118,
     "metadata": {},
     "output_type": "execute_result"
    },
    {
     "data": {
      "image/png": "[encoded data removed]",
      "text/plain": [
       "<matplotlib.figure.Figure at 0x7fc32644cb38>"
      ]
     },
     "metadata": {},
     "output_type": "display_data"
    }
   ],
   "source": [
    "data4['avg_sales_customer'].plot.bar(color=colors,rot=0,figsize=(16,6),title='Average Sales Per Customer')"
   ]
  },
  {
   "cell_type": "code",
   "execution_count": 120,
   "metadata": {
    "collapsed": false
   },
   "outputs": [
    {
     "data": {
      "text/plain": [
       "<matplotlib.axes._subplots.AxesSubplot at 0x7fc32637b8d0>"
      ]
     },
     "execution_count": 120,
     "metadata": {},
     "output_type": "execute_result"
    },
    {
     "data": {
      "image/png": "[encoded data removed]",
      "text/plain": [
       "<matplotlib.figure.Figure at 0x7fc32634f0b8>"
      ]
     },
     "metadata": {},
     "output_type": "display_data"
    }
   ],
   "source": [
    "data4['avg_sales_order'].plot.bar(color=colors,rot=0,figsize=(16,6),title='Average Sales Per Order')"
   ]
  },
  {
   "cell_type": "markdown",
   "metadata": {},
   "source": [
    "### Observations So Far\n",
    " In terms of sales amount per person and per order, there are actually no significant differences between customers in USA, Canada, Germany, and UK. If anything those in Canada bought less on a per customer and per order basis.\n",
    " \n",
    " It is also surprising to find that customers in Czech Republic are the top purchasers in both per customer and per order basis.\n",
    " ___"
   ]
  },
  {
   "cell_type": "markdown",
   "metadata": {},
   "source": [
    "# Recommendations\n",
    "### Action 1: Increase Awareness\n",
    "From the records, it shows that customers in Canada are more frugal with their purchases. Since it is more difficult to change individual behaviors, the company would have better chance of success by increasing the base of purchasers.\n",
    "\n",
    "Therefore, in order to increase total sales in Canada, the company should target the general public for its marketing campaign.\n",
    "\n",
    "### Actoin 2: Targeted Promotion\n",
    "On the other hand, the company should target the big rollers in Czech Republic. Since there customers are already generous with their purchases, the company should target these customers with personalized marketing campaign.\n",
    "___"
   ]
  },
  {
   "cell_type": "markdown",
   "metadata": {
    "collapsed": true
   },
   "source": [
    "# Business Scenario \\#4\n",
    "The Chinook store is setup in a way that allows customer to make purchases in one of the two ways:\n",
    "\n",
    "purchase a whole album\n",
    "purchase a collection of one or more individual tracks.\n",
    "The store does not let customers purchase a whole album, and then add individual tracks to that same purchase (unless they do that by choosing each track manually). When customers purchase albums they are charged the same price as if they had purchased each of those tracks separately.\n",
    "\n",
    "Management are currently considering changing their purchasing strategy to save money. The strategy they are considering is to purchase only the most popular tracks from each album from record companies, instead of purchasing every track from an album.\n",
    "\n",
    "We have been asked to find out what percentage of purchases are individual tracks vs whole albums, so that management can use this data to to understand the effect this decision might have on overall revenue.\n",
    "\n",
    "It is very common when you are performing an analysis to have 'edge cases' which prevent you from getting a 100% accurate answer to your question. In this instance, we have two edge cases to consider:\n",
    "\n",
    "Albums that have only one or two tracks are likely to be purchased by customers as part of a collection of individual tracks.\n",
    "Customers may decide to manually select every track from an album, and then add a few individual tracks from other albums to their purchase.\n",
    "In the first case, since our analysis is concerned with maximizing revenue we can safely ignore albums consisting of only a few tracks. The company has previously done analysis to confirm that the second case does not happen often, so we can ignore this case also.\n",
    "\n",
    "In order to answer the question, we're going to have to identify whether each invoice has all the tracks from an album. We can do this by getting the list of tracks from an invoice and comparing it to the list of tracks from an album. We can find the album to compare the purchase to by looking up the album that one of the purchased tracks belongs to. It doesn't matter which track we pick, since if it's an album purchase, that album will be the same for all tracks."
   ]
  },
  {
   "cell_type": "code",
   "execution_count": 183,
   "metadata": {
    "collapsed": true
   },
   "outputs": [],
   "source": [
    "# description of algorithm\n",
    "# 1. Generate a table that contains all the invoice_id and the first track_id\n",
    "    # associated with it. Use this table as the base main table.\n",
    "# 2. Using the invoice_id in step 1, generate a table from invoice_line that \n",
    "    # contains all the track_id purchased.\n",
    "# 3. Using the track_id in step 1, find its matching album, then generate a \n",
    "    # table containing all the tracks from that album\n",
    "# 4. Now the tables from step 2 and 3 should contain the same column structures.\n",
    "    # Conduct ( (STEP2 EXCEPT STEP3) is NULL and (STEP3 EXCEPT STEP2) is NULL)...\n",
    "    # If evaluated as \"YES\", it means the associated invoice was purchased as\n",
    "    # a whole album.\n",
    "# 5. Assign the outcomes from step 4 back into the main table in step 1.\n",
    "# 6. Using the new table from step 5 to calculate COUNT for the Yes/No groups"
   ]
  },
  {
   "cell_type": "code",
   "execution_count": 180,
   "metadata": {
    "collapsed": false
   },
   "outputs": [
    {
     "data": {
      "text/html": [
       "<div>\n",
       "<table border=\"1\" class=\"dataframe\">\n",
       "  <thead>\n",
       "    <tr style=\"text-align: right;\">\n",
       "      <th></th>\n",
       "      <th>is_album</th>\n",
       "      <th>number_of_purchases</th>\n",
       "      <th>number_of_purchases_perc</th>\n",
       "    </tr>\n",
       "  </thead>\n",
       "  <tbody>\n",
       "    <tr>\n",
       "      <th>0</th>\n",
       "      <td>No</td>\n",
       "      <td>500</td>\n",
       "      <td>0.81</td>\n",
       "    </tr>\n",
       "    <tr>\n",
       "      <th>1</th>\n",
       "      <td>Yes</td>\n",
       "      <td>114</td>\n",
       "      <td>0.19</td>\n",
       "    </tr>\n",
       "  </tbody>\n",
       "</table>\n",
       "</div>"
      ],
      "text/plain": [
       "  is_album  number_of_purchases  number_of_purchases_perc\n",
       "0       No                  500                      0.81\n",
       "1      Yes                  114                      0.19"
      ]
     },
     "execution_count": 180,
     "metadata": {},
     "output_type": "execute_result"
    }
   ],
   "source": [
    "q4 = ('''\n",
    "WITH\n",
    "    main AS\n",
    "        (\n",
    "            SELECT\n",
    "                 il.invoice_id invoice_id,\n",
    "                 MIN(il.track_id) first_track_id\n",
    "             FROM invoice_line il\n",
    "             GROUP BY 1\n",
    "         )\n",
    "SELECT\n",
    "    main.is_album,\n",
    "    COUNT(main.invoice_id) as number_of_purchases,\n",
    "    ROUND(1.0 * count(main.invoice_id) / (SELECT COUNT(*) FROM main), 2) as number_of_purchases_perc\n",
    "FROM\n",
    "    (\n",
    "        SELECT\n",
    "            main.*,\n",
    "            CASE\n",
    "                WHEN\n",
    "                    (\n",
    "                    SELECT\n",
    "                        t2.track_id\n",
    "                    FROM track as t2\n",
    "                    WHERE\n",
    "                        (\n",
    "                            SELECT\n",
    "                                t1.album_id\n",
    "                            FROM track as t1\n",
    "                            WHERE t1.track_id = main.first_track_id\n",
    "                        ) = t2.album_id\n",
    "                    \n",
    "                    EXCEPT\n",
    "                    \n",
    "                    SELECT\n",
    "                        il.track_id\n",
    "                    FROM invoice_line as il\n",
    "                    WHERE il.invoice_id = main.invoice_id\n",
    "                    ) IS NULL\n",
    "                \n",
    "                    AND\n",
    "                    (\n",
    "                    SELECT\n",
    "                        il.track_id\n",
    "                    FROM invoice_line as il\n",
    "                    WHERE il.invoice_id = main.invoice_id\n",
    "                    \n",
    "                    EXCEPT\n",
    "                    \n",
    "                    SELECT\n",
    "                        t2.track_id\n",
    "                    FROM track as t2\n",
    "                    WHERE\n",
    "                        (\n",
    "                            SELECT\n",
    "                                t1.album_id\n",
    "                            FROM track as t1\n",
    "                            WHERE t1.track_id = main.first_track_id\n",
    "                        ) = t2.album_id\n",
    "                    ) IS NULL\n",
    "                    THEN \"Yes\"\n",
    "                    ELSE \"No\"\n",
    "            END as is_album\n",
    "        FROM main\n",
    "    ) as main\n",
    "GROUP BY 1\n",
    "''')\n",
    "run_query(q4)"
   ]
  },
  {
   "cell_type": "markdown",
   "metadata": {},
   "source": [
    "# Recommendation\n",
    "From the records, it shows that the 19% of the purchases were of album purchase.\n",
    "\n",
    "If the management were to revise its purchasing policy, it would mean that the company would potentially lose close to a fifth of its sales total, as it was established that customers are unlikely to add at songs from an album individually into their purchases.\n",
    "\n",
    "Base on this possibility, it is best to avoid the proposed change in purchasing policy."
   ]
  }
 ],
 "metadata": {
  "kernelspec": {
   "display_name": "Python 3",
   "language": "python",
   "name": "python3"
  },
  "language_info": {
   "codemirror_mode": {
    "name": "ipython",
    "version": 3
   },
   "file_extension": ".py",
   "mimetype": "text/x-python",
   "name": "python",
   "nbconvert_exporter": "python",
   "pygments_lexer": "ipython3",
   "version": "3.4.3"
  }
 },
 "nbformat": 4,
 "nbformat_minor": 2
}
